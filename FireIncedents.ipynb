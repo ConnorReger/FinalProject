{
 "cells": [
  {
   "cell_type": "markdown",
   "metadata": {},
   "source": [
    "# **Best Neighborhood**: <br>\n",
    "    Our last topic for the best neighborhood for Spider Man is going to be the ammount of fires in a neighborhood. As a super hero who saves lots of people from fires his help would be important in the neighborhoods with the most ammount of fires."
   ]
  },
  {
   "cell_type": "code",
   "execution_count": null,
   "metadata": {},
   "outputs": [],
   "source": [
    "import pandas as pd\n",
    "playgrounds = pd.read_csv(\"FireIncidents.csv\", sep=\",\")\n",
    "data = {}\n",
    "\n",
    "for index, row in playgrounds.iterrows():\n",
    "    if row.neighborhood in data:\n",
    "        data[row.neighborhood] = data[row.neighborhood] + 1\n",
    "    else:\n",
    "        data[row.neighborhood] = 0\n",
    "neighborhoods = pd.DataFrame.from_dict(data, orient='index')\n",
    "neighborhoods = neighborhoods.sort_values(0, ascending = False)\n",
    "neighborhoods.head(11)"
   ]
  },
  {
   "cell_type": "markdown",
   "metadata": {},
   "source": [
    "# **Best Neighborhood**: <br>\n",
    "    Looking at fires alone the \"best neighborhood for Spider Man\" would be Carrick closely followed by the Central Buisness District and the South Side Flats. Unfourtunatly that top row is the ammount of fires from the database that dont have a neighborhood listed and that number is significant. "
   ]
  }
 ],
 "metadata": {
  "kernelspec": {
   "display_name": "Python 3",
   "language": "python",
   "name": "python3"
  },
  "language_info": {
   "codemirror_mode": {
    "name": "ipython",
    "version": 3
   },
   "file_extension": ".py",
   "mimetype": "text/x-python",
   "name": "python",
   "nbconvert_exporter": "python",
   "pygments_lexer": "ipython3",
   "version": "3.8.3"
  }
 },
 "nbformat": 4,
 "nbformat_minor": 4
}
