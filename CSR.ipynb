{
 "cells": [
  {
   "cell_type": "markdown",
   "metadata": {},
   "source": [
    "# **Introduction**: <br>    \n",
    "    My approach to the metric is to look at arrests and incident reports. You can't have a Spider-Man without people to save and crimes to stop. In order to do that I used two data sets. I looked at incident reports in the last 30 days and the number of arrests since 2016 and found the top 10 neighborhoods with the highest in both metrics. I was thinking about looking into the inverse with highest incidents lowest arrests but I found it was a very hard metric to find and since the incidents were last 30 days and arrests were last 7 years it would be almost impossible to find an accurate and definitive winner for this sub-metric."
   ]
  },
  {
   "cell_type": "code",
   "execution_count": 16,
   "metadata": {},
   "outputs": [
    {
     "data": {
      "text/html": [
       "<div>\n",
       "<style scoped>\n",
       "    .dataframe tbody tr th:only-of-type {\n",
       "        vertical-align: middle;\n",
       "    }\n",
       "\n",
       "    .dataframe tbody tr th {\n",
       "        vertical-align: top;\n",
       "    }\n",
       "\n",
       "    .dataframe thead th {\n",
       "        text-align: right;\n",
       "    }\n",
       "</style>\n",
       "<table border=\"1\" class=\"dataframe\">\n",
       "  <thead>\n",
       "    <tr style=\"text-align: right;\">\n",
       "      <th></th>\n",
       "      <th>0</th>\n",
       "    </tr>\n",
       "  </thead>\n",
       "  <tbody>\n",
       "    <tr>\n",
       "      <th>Central Business District</th>\n",
       "      <td>141</td>\n",
       "    </tr>\n",
       "    <tr>\n",
       "      <th>South Side Flats</th>\n",
       "      <td>113</td>\n",
       "    </tr>\n",
       "    <tr>\n",
       "      <th>Carrick</th>\n",
       "      <td>50</td>\n",
       "    </tr>\n",
       "    <tr>\n",
       "      <th>Shadyside</th>\n",
       "      <td>46</td>\n",
       "    </tr>\n",
       "    <tr>\n",
       "      <th>Squirrel Hill South</th>\n",
       "      <td>45</td>\n",
       "    </tr>\n",
       "    <tr>\n",
       "      <th>Mount Washington</th>\n",
       "      <td>45</td>\n",
       "    </tr>\n",
       "    <tr>\n",
       "      <th>Bluff</th>\n",
       "      <td>42</td>\n",
       "    </tr>\n",
       "    <tr>\n",
       "      <th>Perry South</th>\n",
       "      <td>35</td>\n",
       "    </tr>\n",
       "    <tr>\n",
       "      <th>Brookline</th>\n",
       "      <td>34</td>\n",
       "    </tr>\n",
       "    <tr>\n",
       "      <th>Sheraden</th>\n",
       "      <td>33</td>\n",
       "    </tr>\n",
       "  </tbody>\n",
       "</table>\n",
       "</div>"
      ],
      "text/plain": [
       "                             0\n",
       "Central Business District  141\n",
       "South Side Flats           113\n",
       "Carrick                     50\n",
       "Shadyside                   46\n",
       "Squirrel Hill South         45\n",
       "Mount Washington            45\n",
       "Bluff                       42\n",
       "Perry South                 35\n",
       "Brookline                   34\n",
       "Sheraden                    33"
      ]
     },
     "execution_count": 16,
     "metadata": {},
     "output_type": "execute_result"
    }
   ],
   "source": [
    "import pandas as pd\n",
    "\n",
    "incidents = pd.read_csv('Incidents.csv', sep=\",\")\n",
    "data = {}\n",
    "\n",
    "for index, row in incidents.iterrows():\n",
    "    if row.INCIDENTNEIGHBORHOOD in data:\n",
    "        data[row.INCIDENTNEIGHBORHOOD] = data[row.INCIDENTNEIGHBORHOOD] + 1\n",
    "    else:\n",
    "        data[row.INCIDENTNEIGHBORHOOD] = 0\n",
    "neighborhoods = pd.DataFrame.from_dict(data, orient='index')\n",
    "neighborhoods = neighborhoods.sort_values(0, ascending = False)\n",
    "neighborhoods.head(10)"
   ]
  },
  {
   "cell_type": "code",
   "execution_count": 14,
   "metadata": {},
   "outputs": [
    {
     "data": {
      "text/html": [
       "<div>\n",
       "<style scoped>\n",
       "    .dataframe tbody tr th:only-of-type {\n",
       "        vertical-align: middle;\n",
       "    }\n",
       "\n",
       "    .dataframe tbody tr th {\n",
       "        vertical-align: top;\n",
       "    }\n",
       "\n",
       "    .dataframe thead th {\n",
       "        text-align: right;\n",
       "    }\n",
       "</style>\n",
       "<table border=\"1\" class=\"dataframe\">\n",
       "  <thead>\n",
       "    <tr style=\"text-align: right;\">\n",
       "      <th></th>\n",
       "      <th>0</th>\n",
       "    </tr>\n",
       "  </thead>\n",
       "  <tbody>\n",
       "    <tr>\n",
       "      <th>Central Business District</th>\n",
       "      <td>4277</td>\n",
       "    </tr>\n",
       "    <tr>\n",
       "      <th>South Side Flats</th>\n",
       "      <td>3397</td>\n",
       "    </tr>\n",
       "    <tr>\n",
       "      <th>NaN</th>\n",
       "      <td>2440</td>\n",
       "    </tr>\n",
       "    <tr>\n",
       "      <th>Carrick</th>\n",
       "      <td>2310</td>\n",
       "    </tr>\n",
       "    <tr>\n",
       "      <th>East Allegheny</th>\n",
       "      <td>2160</td>\n",
       "    </tr>\n",
       "    <tr>\n",
       "      <th>Homewood South</th>\n",
       "      <td>2056</td>\n",
       "    </tr>\n",
       "    <tr>\n",
       "      <th>Homewood North</th>\n",
       "      <td>1935</td>\n",
       "    </tr>\n",
       "    <tr>\n",
       "      <th>East Liberty</th>\n",
       "      <td>1858</td>\n",
       "    </tr>\n",
       "    <tr>\n",
       "      <th>Marshall-Shadeland</th>\n",
       "      <td>1499</td>\n",
       "    </tr>\n",
       "    <tr>\n",
       "      <th>Bluff</th>\n",
       "      <td>1465</td>\n",
       "    </tr>\n",
       "  </tbody>\n",
       "</table>\n",
       "</div>"
      ],
      "text/plain": [
       "                              0\n",
       "Central Business District  4277\n",
       "South Side Flats           3397\n",
       "NaN                        2440\n",
       "Carrick                    2310\n",
       "East Allegheny             2160\n",
       "Homewood South             2056\n",
       "Homewood North             1935\n",
       "East Liberty               1858\n",
       "Marshall-Shadeland         1499\n",
       "Bluff                      1465"
      ]
     },
     "execution_count": 14,
     "metadata": {},
     "output_type": "execute_result"
    }
   ],
   "source": [
    "import pandas as pd\n",
    "\n",
    "arrests = pd.read_csv('Arrests.csv', sep=\",\")\n",
    "data = {}\n",
    "\n",
    "for index, row in arrests.iterrows():\n",
    "    if row.INCIDENTNEIGHBORHOOD in data:\n",
    "        data[row.INCIDENTNEIGHBORHOOD] = data[row.INCIDENTNEIGHBORHOOD] + 1\n",
    "    else:\n",
    "        data[row.INCIDENTNEIGHBORHOOD] = 0\n",
    "neighborhoods = pd.DataFrame.from_dict(data, orient='index')\n",
    "neighborhoods = neighborhoods.sort_values(0, ascending = False)\n",
    "neighborhoods.head(10)"
   ]
  },
  {
   "cell_type": "code",
   "execution_count": null,
   "metadata": {},
   "outputs": [],
   "source": [
    "import numpy as np\n",
    "%matplotlib inline\n",
    "import matplotlib.pyplot as plt\n",
    "\n",
    "arrests.cumsum().plot()"
   ]
  },
  {
   "cell_type": "markdown",
   "metadata": {},
   "source": [
    "# **Best Neighborhood**: <br>\n",
    "    According to this metric, the \"Best Neighborhood in Pittsburgh\" to be Spider-Man is the Central Business District. Not only does it have the highest incident rate n the last 30 days, but it overwhelmingly has the most arrests since 2016. It has consistently been the lead in incident rate and arrests, so It is clear that the police could use some help dropping the crime rates down. With the help of a friendly neighborhood Spider-Man, the Central Business District will for sure be a better place."
   ]
  },
  {
   "cell_type": "markdown",
   "metadata": {},
   "source": [
    "# **Conclusion**:\n",
    "    This "
   ]
  },
  {
   "cell_type": "code",
   "execution_count": null,
   "metadata": {},
   "outputs": [],
   "source": []
  }
 ],
 "metadata": {
  "kernelspec": {
   "display_name": "Python 3",
   "language": "python",
   "name": "python3"
  },
  "language_info": {
   "codemirror_mode": {
    "name": "ipython",
    "version": 3
   },
   "file_extension": ".py",
   "mimetype": "text/x-python",
   "name": "python",
   "nbconvert_exporter": "python",
   "pygments_lexer": "ipython3",
   "version": "3.8.3"
  }
 },
 "nbformat": 4,
 "nbformat_minor": 4
}
